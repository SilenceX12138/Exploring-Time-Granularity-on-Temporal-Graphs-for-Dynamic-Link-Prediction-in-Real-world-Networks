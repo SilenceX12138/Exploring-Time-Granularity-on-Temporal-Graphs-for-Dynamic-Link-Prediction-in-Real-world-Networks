{
 "cells": [
  {
   "cell_type": "code",
   "execution_count": 20,
   "metadata": {},
   "outputs": [],
   "source": [
    "import pandas as pd\n",
    "import numpy as np"
   ]
  },
  {
   "attachments": {},
   "cell_type": "markdown",
   "metadata": {},
   "source": [
    "## Can. Parl. Dataset"
   ]
  },
  {
   "attachments": {},
   "cell_type": "markdown",
   "metadata": {},
   "source": [
    "### CSV"
   ]
  },
  {
   "cell_type": "code",
   "execution_count": 4,
   "metadata": {},
   "outputs": [],
   "source": [
    "data_file = '../DG_data/CanParl/ml_CanParl.csv'"
   ]
  },
  {
   "cell_type": "code",
   "execution_count": 7,
   "metadata": {},
   "outputs": [
    {
     "data": {
      "text/html": [
       "<div>\n",
       "<style scoped>\n",
       "    .dataframe tbody tr th:only-of-type {\n",
       "        vertical-align: middle;\n",
       "    }\n",
       "\n",
       "    .dataframe tbody tr th {\n",
       "        vertical-align: top;\n",
       "    }\n",
       "\n",
       "    .dataframe thead th {\n",
       "        text-align: right;\n",
       "    }\n",
       "</style>\n",
       "<table border=\"1\" class=\"dataframe\">\n",
       "  <thead>\n",
       "    <tr style=\"text-align: right;\">\n",
       "      <th></th>\n",
       "      <th>u</th>\n",
       "      <th>i</th>\n",
       "      <th>ts</th>\n",
       "      <th>label</th>\n",
       "      <th>idx</th>\n",
       "    </tr>\n",
       "  </thead>\n",
       "  <tbody>\n",
       "    <tr>\n",
       "      <th>0</th>\n",
       "      <td>384</td>\n",
       "      <td>353</td>\n",
       "      <td>0.0</td>\n",
       "      <td>0.0</td>\n",
       "      <td>1</td>\n",
       "    </tr>\n",
       "    <tr>\n",
       "      <th>1</th>\n",
       "      <td>411</td>\n",
       "      <td>353</td>\n",
       "      <td>0.0</td>\n",
       "      <td>0.0</td>\n",
       "      <td>2</td>\n",
       "    </tr>\n",
       "    <tr>\n",
       "      <th>2</th>\n",
       "      <td>676</td>\n",
       "      <td>353</td>\n",
       "      <td>0.0</td>\n",
       "      <td>0.0</td>\n",
       "      <td>3</td>\n",
       "    </tr>\n",
       "    <tr>\n",
       "      <th>3</th>\n",
       "      <td>467</td>\n",
       "      <td>353</td>\n",
       "      <td>0.0</td>\n",
       "      <td>0.0</td>\n",
       "      <td>4</td>\n",
       "    </tr>\n",
       "    <tr>\n",
       "      <th>4</th>\n",
       "      <td>120</td>\n",
       "      <td>353</td>\n",
       "      <td>0.0</td>\n",
       "      <td>0.0</td>\n",
       "      <td>5</td>\n",
       "    </tr>\n",
       "    <tr>\n",
       "      <th>...</th>\n",
       "      <td>...</td>\n",
       "      <td>...</td>\n",
       "      <td>...</td>\n",
       "      <td>...</td>\n",
       "      <td>...</td>\n",
       "    </tr>\n",
       "    <tr>\n",
       "      <th>74473</th>\n",
       "      <td>695</td>\n",
       "      <td>398</td>\n",
       "      <td>410227200.0</td>\n",
       "      <td>0.0</td>\n",
       "      <td>74474</td>\n",
       "    </tr>\n",
       "    <tr>\n",
       "      <th>74474</th>\n",
       "      <td>355</td>\n",
       "      <td>398</td>\n",
       "      <td>410227200.0</td>\n",
       "      <td>0.0</td>\n",
       "      <td>74475</td>\n",
       "    </tr>\n",
       "    <tr>\n",
       "      <th>74475</th>\n",
       "      <td>444</td>\n",
       "      <td>398</td>\n",
       "      <td>410227200.0</td>\n",
       "      <td>0.0</td>\n",
       "      <td>74476</td>\n",
       "    </tr>\n",
       "    <tr>\n",
       "      <th>74476</th>\n",
       "      <td>98</td>\n",
       "      <td>398</td>\n",
       "      <td>410227200.0</td>\n",
       "      <td>0.0</td>\n",
       "      <td>74477</td>\n",
       "    </tr>\n",
       "    <tr>\n",
       "      <th>74477</th>\n",
       "      <td>542</td>\n",
       "      <td>398</td>\n",
       "      <td>410227200.0</td>\n",
       "      <td>0.0</td>\n",
       "      <td>74478</td>\n",
       "    </tr>\n",
       "  </tbody>\n",
       "</table>\n",
       "<p>74478 rows × 5 columns</p>\n",
       "</div>"
      ],
      "text/plain": [
       "         u    i           ts  label    idx\n",
       "0      384  353          0.0    0.0      1\n",
       "1      411  353          0.0    0.0      2\n",
       "2      676  353          0.0    0.0      3\n",
       "3      467  353          0.0    0.0      4\n",
       "4      120  353          0.0    0.0      5\n",
       "...    ...  ...          ...    ...    ...\n",
       "74473  695  398  410227200.0    0.0  74474\n",
       "74474  355  398  410227200.0    0.0  74475\n",
       "74475  444  398  410227200.0    0.0  74476\n",
       "74476   98  398  410227200.0    0.0  74477\n",
       "74477  542  398  410227200.0    0.0  74478\n",
       "\n",
       "[74478 rows x 5 columns]"
      ]
     },
     "execution_count": 7,
     "metadata": {},
     "output_type": "execute_result"
    }
   ],
   "source": [
    "data_df = pd.read_csv(data_file)\n",
    "data_df = data_df.drop(axis=1, columns=['Unnamed: 0'])\n",
    "data_df"
   ]
  },
  {
   "cell_type": "code",
   "execution_count": 9,
   "metadata": {},
   "outputs": [
    {
     "data": {
      "text/plain": [
       "0.0            3734\n",
       "31536000.0     5501\n",
       "63072000.0     3682\n",
       "94694400.0     5130\n",
       "126230400.0    4409\n",
       "157766400.0    3109\n",
       "189302400.0    8334\n",
       "220924800.0    6631\n",
       "252460800.0    7729\n",
       "283996800.0    4297\n",
       "315532800.0    4844\n",
       "347155200.0    6965\n",
       "378691200.0    7015\n",
       "410227200.0    3098\n",
       "Name: ts, dtype: int64"
      ]
     },
     "execution_count": 9,
     "metadata": {},
     "output_type": "execute_result"
    }
   ],
   "source": [
    "data_df['ts'].value_counts().sort_index()"
   ]
  },
  {
   "cell_type": "code",
   "execution_count": 15,
   "metadata": {},
   "outputs": [
    {
     "data": {
      "text/plain": [
       "0.0     3734\n",
       "1.0     5501\n",
       "2.0     3682\n",
       "3.0     5130\n",
       "4.0     4409\n",
       "5.0     3109\n",
       "6.0     8334\n",
       "7.0     6631\n",
       "8.0     7729\n",
       "9.0     4297\n",
       "10.0    4844\n",
       "11.0    6965\n",
       "12.0    7015\n",
       "13.0    3098\n",
       "Name: ts, dtype: int64"
      ]
     },
     "execution_count": 15,
     "metadata": {},
     "output_type": "execute_result"
    }
   ],
   "source": [
    "(data_df['ts'] / 3600 / 24 // 365).value_counts().sort_index()"
   ]
  },
  {
   "attachments": {},
   "cell_type": "markdown",
   "metadata": {},
   "source": [
    "### NumPy"
   ]
  },
  {
   "cell_type": "code",
   "execution_count": 22,
   "metadata": {},
   "outputs": [],
   "source": [
    "data_file = '../DG_data/enron/ml_enron.npy'\n",
    "node_file = '../DG_data/enron/ml_enron_node.npy'"
   ]
  },
  {
   "cell_type": "code",
   "execution_count": 29,
   "metadata": {},
   "outputs": [
    {
     "data": {
      "text/plain": [
       "((125236, 32), True)"
      ]
     },
     "execution_count": 29,
     "metadata": {},
     "output_type": "execute_result"
    }
   ],
   "source": [
    "data = np.load(data_file)\n",
    "data.shape, np.all(data==0)"
   ]
  },
  {
   "cell_type": "code",
   "execution_count": 28,
   "metadata": {},
   "outputs": [
    {
     "data": {
      "text/plain": [
       "((185, 32), True)"
      ]
     },
     "execution_count": 28,
     "metadata": {},
     "output_type": "execute_result"
    }
   ],
   "source": [
    "node = np.load(node_file)\n",
    "node.shape, np.all(node==0)"
   ]
  },
  {
   "attachments": {},
   "cell_type": "markdown",
   "metadata": {},
   "source": [
    "## enron Dataset"
   ]
  },
  {
   "cell_type": "code",
   "execution_count": 16,
   "metadata": {},
   "outputs": [],
   "source": [
    "data_file = '../DG_data/enron/ml_enron.csv'"
   ]
  },
  {
   "cell_type": "code",
   "execution_count": 17,
   "metadata": {},
   "outputs": [
    {
     "data": {
      "text/html": [
       "<div>\n",
       "<style scoped>\n",
       "    .dataframe tbody tr th:only-of-type {\n",
       "        vertical-align: middle;\n",
       "    }\n",
       "\n",
       "    .dataframe tbody tr th {\n",
       "        vertical-align: top;\n",
       "    }\n",
       "\n",
       "    .dataframe thead th {\n",
       "        text-align: right;\n",
       "    }\n",
       "</style>\n",
       "<table border=\"1\" class=\"dataframe\">\n",
       "  <thead>\n",
       "    <tr style=\"text-align: right;\">\n",
       "      <th></th>\n",
       "      <th>u</th>\n",
       "      <th>i</th>\n",
       "      <th>ts</th>\n",
       "      <th>label</th>\n",
       "      <th>idx</th>\n",
       "    </tr>\n",
       "  </thead>\n",
       "  <tbody>\n",
       "    <tr>\n",
       "      <th>0</th>\n",
       "      <td>115</td>\n",
       "      <td>170</td>\n",
       "      <td>0.0</td>\n",
       "      <td>0</td>\n",
       "      <td>1</td>\n",
       "    </tr>\n",
       "    <tr>\n",
       "      <th>1</th>\n",
       "      <td>115</td>\n",
       "      <td>170</td>\n",
       "      <td>0.0</td>\n",
       "      <td>0</td>\n",
       "      <td>2</td>\n",
       "    </tr>\n",
       "    <tr>\n",
       "      <th>2</th>\n",
       "      <td>115</td>\n",
       "      <td>124</td>\n",
       "      <td>529920.0</td>\n",
       "      <td>0</td>\n",
       "      <td>3</td>\n",
       "    </tr>\n",
       "    <tr>\n",
       "      <th>3</th>\n",
       "      <td>115</td>\n",
       "      <td>124</td>\n",
       "      <td>529920.0</td>\n",
       "      <td>0</td>\n",
       "      <td>4</td>\n",
       "    </tr>\n",
       "    <tr>\n",
       "      <th>4</th>\n",
       "      <td>115</td>\n",
       "      <td>124</td>\n",
       "      <td>533820.0</td>\n",
       "      <td>0</td>\n",
       "      <td>5</td>\n",
       "    </tr>\n",
       "    <tr>\n",
       "      <th>...</th>\n",
       "      <td>...</td>\n",
       "      <td>...</td>\n",
       "      <td>...</td>\n",
       "      <td>...</td>\n",
       "      <td>...</td>\n",
       "    </tr>\n",
       "    <tr>\n",
       "      <th>125230</th>\n",
       "      <td>18</td>\n",
       "      <td>18</td>\n",
       "      <td>113717323.0</td>\n",
       "      <td>0</td>\n",
       "      <td>125231</td>\n",
       "    </tr>\n",
       "    <tr>\n",
       "      <th>125231</th>\n",
       "      <td>163</td>\n",
       "      <td>18</td>\n",
       "      <td>113733034.0</td>\n",
       "      <td>0</td>\n",
       "      <td>125232</td>\n",
       "    </tr>\n",
       "    <tr>\n",
       "      <th>125232</th>\n",
       "      <td>163</td>\n",
       "      <td>156</td>\n",
       "      <td>113733034.0</td>\n",
       "      <td>0</td>\n",
       "      <td>125233</td>\n",
       "    </tr>\n",
       "    <tr>\n",
       "      <th>125233</th>\n",
       "      <td>163</td>\n",
       "      <td>166</td>\n",
       "      <td>113733034.0</td>\n",
       "      <td>0</td>\n",
       "      <td>125234</td>\n",
       "    </tr>\n",
       "    <tr>\n",
       "      <th>125234</th>\n",
       "      <td>18</td>\n",
       "      <td>18</td>\n",
       "      <td>113740399.0</td>\n",
       "      <td>0</td>\n",
       "      <td>125235</td>\n",
       "    </tr>\n",
       "  </tbody>\n",
       "</table>\n",
       "<p>125235 rows × 5 columns</p>\n",
       "</div>"
      ],
      "text/plain": [
       "          u    i           ts  label     idx\n",
       "0       115  170          0.0      0       1\n",
       "1       115  170          0.0      0       2\n",
       "2       115  124     529920.0      0       3\n",
       "3       115  124     529920.0      0       4\n",
       "4       115  124     533820.0      0       5\n",
       "...     ...  ...          ...    ...     ...\n",
       "125230   18   18  113717323.0      0  125231\n",
       "125231  163   18  113733034.0      0  125232\n",
       "125232  163  156  113733034.0      0  125233\n",
       "125233  163  166  113733034.0      0  125234\n",
       "125234   18   18  113740399.0      0  125235\n",
       "\n",
       "[125235 rows x 5 columns]"
      ]
     },
     "execution_count": 17,
     "metadata": {},
     "output_type": "execute_result"
    }
   ],
   "source": [
    "data_df = pd.read_csv(data_file)\n",
    "data_df = data_df.drop(axis=1, columns=['Unnamed: 0'])\n",
    "data_df"
   ]
  },
  {
   "cell_type": "code",
   "execution_count": 18,
   "metadata": {},
   "outputs": [
    {
     "data": {
      "text/plain": [
       "0.0             2\n",
       "529920.0        2\n",
       "533820.0        4\n",
       "944160.0       14\n",
       "1466100.0       8\n",
       "               ..\n",
       "113564563.0     1\n",
       "113717004.0     1\n",
       "113717323.0     1\n",
       "113733034.0     3\n",
       "113740399.0     1\n",
       "Name: ts, Length: 22632, dtype: int64"
      ]
     },
     "execution_count": 18,
     "metadata": {},
     "output_type": "execute_result"
    }
   ],
   "source": [
    "(data_df['ts']).value_counts().sort_index()"
   ]
  }
 ],
 "metadata": {
  "kernelspec": {
   "display_name": "low-data",
   "language": "python",
   "name": "python3"
  },
  "language_info": {
   "codemirror_mode": {
    "name": "ipython",
    "version": 3
   },
   "file_extension": ".py",
   "mimetype": "text/x-python",
   "name": "python",
   "nbconvert_exporter": "python",
   "pygments_lexer": "ipython3",
   "version": "3.8.0"
  },
  "orig_nbformat": 4
 },
 "nbformat": 4,
 "nbformat_minor": 2
}
