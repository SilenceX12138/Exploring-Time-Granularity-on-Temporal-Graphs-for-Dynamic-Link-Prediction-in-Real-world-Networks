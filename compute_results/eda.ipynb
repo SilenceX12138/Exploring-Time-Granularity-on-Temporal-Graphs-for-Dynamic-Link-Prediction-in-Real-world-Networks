{
 "cells": [
  {
   "cell_type": "code",
   "execution_count": 1,
   "metadata": {},
   "outputs": [],
   "source": [
    "import pandas as pd\n",
    "import numpy as np"
   ]
  },
  {
   "attachments": {},
   "cell_type": "markdown",
   "metadata": {},
   "source": [
    "## Can. Parl. Dataset"
   ]
  },
  {
   "attachments": {},
   "cell_type": "markdown",
   "metadata": {},
   "source": [
    "### CSV"
   ]
  },
  {
   "cell_type": "code",
   "execution_count": 2,
   "metadata": {},
   "outputs": [],
   "source": [
    "data_file = '../DG_data/CanParl/ml_CanParl.csv'"
   ]
  },
  {
   "cell_type": "code",
   "execution_count": 3,
   "metadata": {},
   "outputs": [
    {
     "data": {
      "text/html": [
       "<div>\n",
       "<style scoped>\n",
       "    .dataframe tbody tr th:only-of-type {\n",
       "        vertical-align: middle;\n",
       "    }\n",
       "\n",
       "    .dataframe tbody tr th {\n",
       "        vertical-align: top;\n",
       "    }\n",
       "\n",
       "    .dataframe thead th {\n",
       "        text-align: right;\n",
       "    }\n",
       "</style>\n",
       "<table border=\"1\" class=\"dataframe\">\n",
       "  <thead>\n",
       "    <tr style=\"text-align: right;\">\n",
       "      <th></th>\n",
       "      <th>u</th>\n",
       "      <th>i</th>\n",
       "      <th>ts</th>\n",
       "      <th>label</th>\n",
       "      <th>idx</th>\n",
       "    </tr>\n",
       "  </thead>\n",
       "  <tbody>\n",
       "    <tr>\n",
       "      <th>0</th>\n",
       "      <td>384</td>\n",
       "      <td>353</td>\n",
       "      <td>0.0</td>\n",
       "      <td>0.0</td>\n",
       "      <td>1</td>\n",
       "    </tr>\n",
       "    <tr>\n",
       "      <th>1</th>\n",
       "      <td>411</td>\n",
       "      <td>353</td>\n",
       "      <td>0.0</td>\n",
       "      <td>0.0</td>\n",
       "      <td>2</td>\n",
       "    </tr>\n",
       "    <tr>\n",
       "      <th>2</th>\n",
       "      <td>676</td>\n",
       "      <td>353</td>\n",
       "      <td>0.0</td>\n",
       "      <td>0.0</td>\n",
       "      <td>3</td>\n",
       "    </tr>\n",
       "    <tr>\n",
       "      <th>3</th>\n",
       "      <td>467</td>\n",
       "      <td>353</td>\n",
       "      <td>0.0</td>\n",
       "      <td>0.0</td>\n",
       "      <td>4</td>\n",
       "    </tr>\n",
       "    <tr>\n",
       "      <th>4</th>\n",
       "      <td>120</td>\n",
       "      <td>353</td>\n",
       "      <td>0.0</td>\n",
       "      <td>0.0</td>\n",
       "      <td>5</td>\n",
       "    </tr>\n",
       "    <tr>\n",
       "      <th>...</th>\n",
       "      <td>...</td>\n",
       "      <td>...</td>\n",
       "      <td>...</td>\n",
       "      <td>...</td>\n",
       "      <td>...</td>\n",
       "    </tr>\n",
       "    <tr>\n",
       "      <th>74473</th>\n",
       "      <td>695</td>\n",
       "      <td>398</td>\n",
       "      <td>410227200.0</td>\n",
       "      <td>0.0</td>\n",
       "      <td>74474</td>\n",
       "    </tr>\n",
       "    <tr>\n",
       "      <th>74474</th>\n",
       "      <td>355</td>\n",
       "      <td>398</td>\n",
       "      <td>410227200.0</td>\n",
       "      <td>0.0</td>\n",
       "      <td>74475</td>\n",
       "    </tr>\n",
       "    <tr>\n",
       "      <th>74475</th>\n",
       "      <td>444</td>\n",
       "      <td>398</td>\n",
       "      <td>410227200.0</td>\n",
       "      <td>0.0</td>\n",
       "      <td>74476</td>\n",
       "    </tr>\n",
       "    <tr>\n",
       "      <th>74476</th>\n",
       "      <td>98</td>\n",
       "      <td>398</td>\n",
       "      <td>410227200.0</td>\n",
       "      <td>0.0</td>\n",
       "      <td>74477</td>\n",
       "    </tr>\n",
       "    <tr>\n",
       "      <th>74477</th>\n",
       "      <td>542</td>\n",
       "      <td>398</td>\n",
       "      <td>410227200.0</td>\n",
       "      <td>0.0</td>\n",
       "      <td>74478</td>\n",
       "    </tr>\n",
       "  </tbody>\n",
       "</table>\n",
       "<p>74478 rows × 5 columns</p>\n",
       "</div>"
      ],
      "text/plain": [
       "         u    i           ts  label    idx\n",
       "0      384  353          0.0    0.0      1\n",
       "1      411  353          0.0    0.0      2\n",
       "2      676  353          0.0    0.0      3\n",
       "3      467  353          0.0    0.0      4\n",
       "4      120  353          0.0    0.0      5\n",
       "...    ...  ...          ...    ...    ...\n",
       "74473  695  398  410227200.0    0.0  74474\n",
       "74474  355  398  410227200.0    0.0  74475\n",
       "74475  444  398  410227200.0    0.0  74476\n",
       "74476   98  398  410227200.0    0.0  74477\n",
       "74477  542  398  410227200.0    0.0  74478\n",
       "\n",
       "[74478 rows x 5 columns]"
      ]
     },
     "execution_count": 3,
     "metadata": {},
     "output_type": "execute_result"
    }
   ],
   "source": [
    "data_df = pd.read_csv(data_file)\n",
    "data_df = data_df.drop(axis=1, columns=['Unnamed: 0'])\n",
    "data_df"
   ]
  },
  {
   "cell_type": "code",
   "execution_count": 4,
   "metadata": {},
   "outputs": [
    {
     "data": {
      "text/plain": [
       "0.0            3734\n",
       "31536000.0     5501\n",
       "63072000.0     3682\n",
       "94694400.0     5130\n",
       "126230400.0    4409\n",
       "157766400.0    3109\n",
       "189302400.0    8334\n",
       "220924800.0    6631\n",
       "252460800.0    7729\n",
       "283996800.0    4297\n",
       "315532800.0    4844\n",
       "347155200.0    6965\n",
       "378691200.0    7015\n",
       "410227200.0    3098\n",
       "Name: ts, dtype: int64"
      ]
     },
     "execution_count": 4,
     "metadata": {},
     "output_type": "execute_result"
    }
   ],
   "source": [
    "data_df['ts'].value_counts().sort_index()"
   ]
  },
  {
   "attachments": {},
   "cell_type": "markdown",
   "metadata": {},
   "source": [
    "### NumPy"
   ]
  },
  {
   "cell_type": "code",
   "execution_count": 5,
   "metadata": {},
   "outputs": [],
   "source": [
    "data_file = '../DG_data/enron/ml_enron.npy'\n",
    "node_file = '../DG_data/enron/ml_enron_node.npy'"
   ]
  },
  {
   "cell_type": "code",
   "execution_count": 6,
   "metadata": {},
   "outputs": [
    {
     "data": {
      "text/plain": [
       "((125236, 32), True)"
      ]
     },
     "execution_count": 6,
     "metadata": {},
     "output_type": "execute_result"
    }
   ],
   "source": [
    "data = np.load(data_file)\n",
    "data.shape, np.all(data==0)"
   ]
  },
  {
   "cell_type": "code",
   "execution_count": 7,
   "metadata": {},
   "outputs": [
    {
     "data": {
      "text/plain": [
       "((185, 32), True)"
      ]
     },
     "execution_count": 7,
     "metadata": {},
     "output_type": "execute_result"
    }
   ],
   "source": [
    "node = np.load(node_file)\n",
    "node.shape, np.all(node==0)"
   ]
  },
  {
   "cell_type": "code",
   "execution_count": 8,
   "metadata": {},
   "outputs": [],
   "source": [
    "granularity_list = [1, 60, 3600, 3600 * 24, 3600 * 24 * 30, 3600 * 24 * 30 * 12]"
   ]
  },
  {
   "attachments": {},
   "cell_type": "markdown",
   "metadata": {},
   "source": [
    "## Wikipedia"
   ]
  },
  {
   "cell_type": "code",
   "execution_count": 9,
   "metadata": {},
   "outputs": [
    {
     "data": {
      "text/plain": [
       "[152757, 42569, 745, 32, 3, 2]"
      ]
     },
     "execution_count": 9,
     "metadata": {},
     "output_type": "execute_result"
    }
   ],
   "source": [
    "data_file = '../DG_data/TG_network_datasets/wikipedia/ml_wikipedia.csv'\n",
    "data_df = pd.read_csv(data_file)\n",
    "data_df = data_df.drop(axis=1, columns=['Unnamed: 0'])\n",
    "num_step_list = []\n",
    "for granularity in granularity_list:\n",
    "    num_step_list.append(len((np.ceil(data_df['ts'] / granularity)).value_counts()))\n",
    "num_step_list"
   ]
  },
  {
   "cell_type": "markdown",
   "metadata": {},
   "source": [
    "## Reddit"
   ]
  },
  {
   "cell_type": "code",
   "execution_count": 10,
   "metadata": {},
   "outputs": [
    {
     "data": {
      "text/plain": [
       "[588918, 44640, 745, 32, 3, 2]"
      ]
     },
     "execution_count": 10,
     "metadata": {},
     "output_type": "execute_result"
    }
   ],
   "source": [
    "data_file = '../DG_data/TG_network_datasets/reddit/ml_reddit.csv'\n",
    "data_df = pd.read_csv(data_file)\n",
    "data_df = data_df.drop(axis=1, columns=['Unnamed: 0'])\n",
    "num_step_list = []\n",
    "for granularity in granularity_list:\n",
    "    num_step_list.append(len((np.ceil(data_df['ts'] / granularity)).value_counts()))\n",
    "num_step_list"
   ]
  },
  {
   "attachments": {},
   "cell_type": "markdown",
   "metadata": {},
   "source": [
    "## MOOC"
   ]
  },
  {
   "cell_type": "code",
   "execution_count": 11,
   "metadata": {},
   "outputs": [
    {
     "data": {
      "text/plain": [
       "[345600, 33276, 707, 31, 2, 2]"
      ]
     },
     "execution_count": 11,
     "metadata": {},
     "output_type": "execute_result"
    }
   ],
   "source": [
    "data_file = '../DG_data/TG_network_datasets/mooc/ml_mooc.csv'\n",
    "data_df = pd.read_csv(data_file)\n",
    "data_df = data_df.drop(axis=1, columns=['Unnamed: 0'])\n",
    "num_step_list = []\n",
    "for granularity in granularity_list:\n",
    "    num_step_list.append(len((np.ceil(data_df['ts'] / granularity)).value_counts()))\n",
    "num_step_list"
   ]
  },
  {
   "attachments": {},
   "cell_type": "markdown",
   "metadata": {},
   "source": [
    "## LastFM"
   ]
  },
  {
   "cell_type": "code",
   "execution_count": 12,
   "metadata": {},
   "outputs": [
    {
     "data": {
      "text/plain": [
       "[1283614, 922509, 37542, 1587, 54, 6]"
      ]
     },
     "execution_count": 12,
     "metadata": {},
     "output_type": "execute_result"
    }
   ],
   "source": [
    "data_file = '../DG_data/TG_network_datasets/lastfm/ml_lastfm.csv'\n",
    "data_df = pd.read_csv(data_file)\n",
    "data_df = data_df.drop(axis=1, columns=['Unnamed: 0'])\n",
    "num_step_list = []\n",
    "for granularity in granularity_list:\n",
    "    num_step_list.append(len((np.ceil(data_df['ts'] / granularity)).value_counts()))\n",
    "num_step_list"
   ]
  },
  {
   "attachments": {},
   "cell_type": "markdown",
   "metadata": {},
   "source": [
    "## Enron"
   ]
  },
  {
   "cell_type": "code",
   "execution_count": 13,
   "metadata": {},
   "outputs": [
    {
     "data": {
      "text/plain": [
       "[22632, 22189, 8079, 1032, 45, 5]"
      ]
     },
     "execution_count": 13,
     "metadata": {},
     "output_type": "execute_result"
    }
   ],
   "source": [
    "data_file = '../DG_data/TG_network_datasets/enron/ml_enron.csv'\n",
    "data_df = pd.read_csv(data_file)\n",
    "data_df = data_df.drop(axis=1, columns=['Unnamed: 0'])\n",
    "num_step_list = []\n",
    "for granularity in granularity_list:\n",
    "    num_step_list.append(len((np.ceil(data_df['ts'] / granularity)).value_counts()))\n",
    "num_step_list"
   ]
  },
  {
   "attachments": {},
   "cell_type": "markdown",
   "metadata": {},
   "source": [
    "## Social. Evo."
   ]
  },
  {
   "cell_type": "code",
   "execution_count": 14,
   "metadata": {},
   "outputs": [
    {
     "data": {
      "text/plain": [
       "[565932, 242886, 5685, 244, 10, 2]"
      ]
     },
     "execution_count": 14,
     "metadata": {},
     "output_type": "execute_result"
    }
   ],
   "source": [
    "data_file = '../DG_data/TG_network_datasets/SocialEvo/ml_SocialEvo.csv'\n",
    "data_df = pd.read_csv(data_file)\n",
    "data_df = data_df.drop(axis=1, columns=['Unnamed: 0'])\n",
    "num_step_list = []\n",
    "for granularity in granularity_list:\n",
    "    num_step_list.append(len((np.ceil(data_df['ts'] / granularity)).value_counts()))\n",
    "num_step_list"
   ]
  },
  {
   "attachments": {},
   "cell_type": "markdown",
   "metadata": {},
   "source": [
    "## UCI"
   ]
  },
  {
   "cell_type": "code",
   "execution_count": 15,
   "metadata": {},
   "outputs": [
    {
     "data": {
      "text/plain": [
       "[58911, 35908, 3313, 192, 8, 2]"
      ]
     },
     "execution_count": 15,
     "metadata": {},
     "output_type": "execute_result"
    }
   ],
   "source": [
    "data_file = '../DG_data/TG_network_datasets/uci/ml_uci.csv'\n",
    "data_df = pd.read_csv(data_file)\n",
    "data_df = data_df.drop(axis=1, columns=['Unnamed: 0'])\n",
    "num_step_list = []\n",
    "for granularity in granularity_list:\n",
    "    num_step_list.append(len((np.ceil(data_df['ts'] / granularity)).value_counts()))\n",
    "num_step_list"
   ]
  }
 ],
 "metadata": {
  "kernelspec": {
   "display_name": "low-data",
   "language": "python",
   "name": "python3"
  },
  "language_info": {
   "codemirror_mode": {
    "name": "ipython",
    "version": 3
   },
   "file_extension": ".py",
   "mimetype": "text/x-python",
   "name": "python",
   "nbconvert_exporter": "python",
   "pygments_lexer": "ipython3",
   "version": "3.8.0"
  },
  "orig_nbformat": 4
 },
 "nbformat": 4,
 "nbformat_minor": 2
}
