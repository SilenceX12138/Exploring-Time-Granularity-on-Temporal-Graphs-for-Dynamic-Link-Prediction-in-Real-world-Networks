{
 "cells": [
  {
   "cell_type": "code",
   "execution_count": 1,
   "metadata": {},
   "outputs": [],
   "source": [
    "import numpy as np\n",
    "import pandas as pd"
   ]
  },
  {
   "cell_type": "code",
   "execution_count": 2,
   "metadata": {},
   "outputs": [],
   "source": [
    "log_file = '../tgn/log/neg_sample/TGN_rnd_enron_self_sup.log'"
   ]
  },
  {
   "cell_type": "code",
   "execution_count": 3,
   "metadata": {},
   "outputs": [
    {
     "data": {
      "text/plain": [
       "['2023-03-13 21:04:02,065 - root - INFO - *** Arguments ***',\n",
       " \"2023-03-13 21:04:02,065 - root - INFO - Namespace(aggregator='last', backprop_every=1, data='enron', different_new_nodes=False, drop_out=0.1, dyrep=False, embedding_module='graph_attention', gpu=0, lr=0.0001, memory_dim=172, memory_update_at_end=False, memory_updater='gru', message_dim=100, message_function='identity', model='tgn', n_degree=10, n_head=2, n_layer=1, n_runs=1, neg_sample='rnd', node_dim=100, randomize_features=False, test_ratio=0.15, time_dim=100, uniform=False, use_destination_embedding_in_message=False, use_memory=True, use_source_embedding_in_message=False, val_ratio=0.15)\",\n",
       " '2023-03-13 21:04:02,647 - root - INFO - ************************************',\n",
       " '2023-03-13 21:04:02,648 - root - INFO - *********** Test starts *************',\n",
       " '2023-03-13 21:04:02,648 - root - INFO - ************************************',\n",
       " '2023-03-13 21:04:02,648 - root - INFO - *********** Run 0 starts *************',\n",
       " '2023-03-13 21:04:07,815 - root - INFO - Performance of the tgn model for the test set.',\n",
       " '2023-03-13 21:04:07,815 - root - INFO - Network Name: enron, Model: tgn',\n",
       " '2023-03-13 21:04:07,815 - root - INFO - Test statistics: *** Old Nodes (Transductive) ***',\n",
       " '2023-03-13 21:04:07,815 - root - INFO - Test statistics: Old nodes -- auc_inherent: 0.8570353163902834',\n",
       " '2023-03-13 21:04:07,815 - root - INFO - Test statistics: Old nodes -- ap_inherent: 0.8467769084496038',\n",
       " '2023-03-13 21:04:07,815 - root - INFO - Test statistics: New nodes -- auc_inherent: 0.790025505050505',\n",
       " '2023-03-13 21:04:07,815 - root - INFO - Test statistics: New nodes -- ap_inherent: 0.7667346820962483',\n",
       " '2023-03-13 21:04:07,815 - root - INFO - Test statistics: Old nodes -- ap: 0.8467769084496038',\n",
       " '2023-03-13 21:04:07,815 - root - INFO - Test statistics: Old nodes -- au_roc_score: 0.8570353163902831',\n",
       " '2023-03-13 21:04:07,815 - root - INFO - Test statistics: Old nodes -- opt_thr_au_roc: 0.651960015296936',\n",
       " '2023-03-13 21:04:07,815 - root - INFO - Test statistics: Old nodes -- acc_auroc_opt_thr: 0.8014261069580221',\n",
       " '2023-03-13 21:04:07,815 - root - INFO - Test statistics: Old nodes -- prec_auroc_opt_thr: 0.7908637730763918',\n",
       " '2023-03-13 21:04:07,816 - root - INFO - Test statistics: Old nodes -- rec_auroc_opt_thr: 0.8267466935020124',\n",
       " '2023-03-13 21:04:07,816 - root - INFO - Test statistics: Old nodes -- f1_auroc_opt_thr: 0.8023201933681784',\n",
       " '2023-03-13 21:04:07,816 - root - INFO - Test statistics: Old nodes -- au_pr_score: 0.8351891211254574',\n",
       " '2023-03-13 21:04:07,816 - root - INFO - Test statistics: Old nodes -- opt_thr_au_pr: 0.6329376697540283',\n",
       " '2023-03-13 21:04:07,816 - root - INFO - Test statistics: Old nodes -- acc_aupr_opt_thr: 0.7644601782633699',\n",
       " '2023-03-13 21:04:07,816 - root - INFO - Test statistics: Old nodes -- prec_aupr_opt_thr: 0.7362441154398313',\n",
       " '2023-03-13 21:04:07,816 - root - INFO - Test statistics: Old nodes -- rec_aupr_opt_thr: 0.7585983323749281',\n",
       " '2023-03-13 21:04:07,816 - root - INFO - Test statistics: Old nodes -- f1_aupr_opt_thr: 0.7044808899324091',\n",
       " '2023-03-13 21:04:07,816 - root - INFO - Test statistics: Old nodes -- acc: 0.7745514663599767',\n",
       " '2023-03-13 21:04:07,816 - root - INFO - Test statistics: Old nodes -- prec: 0.7262644339331826',\n",
       " '2023-03-13 21:04:07,816 - root - INFO - Test statistics: Old nodes -- rec: 0.898079355951696',\n",
       " '2023-03-13 21:04:07,816 - root - INFO - Test statistics: Old nodes -- f1: 0.8004737024026273',\n",
       " '2023-03-13 21:04:07,816 - root - INFO - Test statistics: New nodes -- ap: 0.7667346820962483',\n",
       " '2023-03-13 21:04:07,816 - root - INFO - Test statistics: New nodes -- au_roc_score: 0.790025505050505',\n",
       " '2023-03-13 21:04:07,816 - root - INFO - Test statistics: New nodes -- opt_thr_au_roc: 0.6221599578857422',\n",
       " '2023-03-13 21:04:07,816 - root - INFO - Test statistics: New nodes -- acc_auroc_opt_thr: 0.7477651515151514',\n",
       " '2023-03-13 21:04:07,816 - root - INFO - Test statistics: New nodes -- prec_auroc_opt_thr: 0.7348163293247567',\n",
       " '2023-03-13 21:04:07,816 - root - INFO - Test statistics: New nodes -- rec_auroc_opt_thr: 0.7916666666666669',\n",
       " '2023-03-13 21:04:07,816 - root - INFO - Test statistics: New nodes -- f1_auroc_opt_thr: 0.756855849565716',\n",
       " '2023-03-13 21:04:07,816 - root - INFO - Test statistics: New nodes -- au_pr_score: 0.7547171732117129',\n",
       " '2023-03-13 21:04:07,816 - root - INFO - Test statistics: New nodes -- opt_thr_au_pr: 0.6040518283843994',\n",
       " '2023-03-13 21:04:07,816 - root - INFO - Test statistics: New nodes -- acc_aupr_opt_thr: 0.6660984848484849',\n",
       " '2023-03-13 21:04:07,816 - root - INFO - Test statistics: New nodes -- prec_aupr_opt_thr: 0.7030257879324794',\n",
       " '2023-03-13 21:04:07,816 - root - INFO - Test statistics: New nodes -- rec_aupr_opt_thr: 0.6275',\n",
       " '2023-03-13 21:04:07,816 - root - INFO - Test statistics: New nodes -- f1_aupr_opt_thr: 0.5388918144252265',\n",
       " '2023-03-13 21:04:07,816 - root - INFO - Test statistics: New nodes -- acc: 0.7282196969696969',\n",
       " '2023-03-13 21:04:07,816 - root - INFO - Test statistics: New nodes -- prec: 0.6832310928224637',\n",
       " '2023-03-13 21:04:07,816 - root - INFO - Test statistics: New nodes -- rec: 0.861439393939394',\n",
       " '2023-03-13 21:04:07,816 - root - INFO - Test statistics: New nodes -- f1: 0.7605100037601997',\n",
       " '2023-03-13 21:04:07,816 - root - INFO - Info: Run 0 elapsed time: 5.1688148975372314 seconds.',\n",
       " '2023-03-13 21:04:07,816 - root - INFO - Info: Total elapsed time: 5.168862581253052 seconds.']"
      ]
     },
     "execution_count": 3,
     "metadata": {},
     "output_type": "execute_result"
    }
   ],
   "source": [
    "with open(log_file, 'r') as f_log:\n",
    "    log_list = f_log.readlines()\n",
    "log_list = [log.strip() for log in log_list]\n",
    "log_list"
   ]
  },
  {
   "cell_type": "code",
   "execution_count": 4,
   "metadata": {},
   "outputs": [
    {
     "data": {
      "text/plain": [
       "([0.8570353163902834], [0.8467769084496038])"
      ]
     },
     "execution_count": 4,
     "metadata": {},
     "output_type": "execute_result"
    }
   ],
   "source": [
    "auc_list = []\n",
    "ap_list = []\n",
    "\n",
    "for log in log_list:\n",
    "    if 'Old nodes -- auc_inherent' in log:\n",
    "        auc_list.append(eval(log.split(':')[-1]))\n",
    "    if 'Old nodes -- ap_inherent' in log:\n",
    "        ap_list.append(eval(log.split(':')[-1]))   \n",
    "\n",
    "auc_list, ap_list"
   ]
  },
  {
   "cell_type": "code",
   "execution_count": 5,
   "metadata": {},
   "outputs": [
    {
     "name": "stdout",
     "output_type": "stream",
     "text": [
      "auc:  0.8570353163902834 0.0\n",
      "ap:   0.8467769084496038 0.0\n"
     ]
    }
   ],
   "source": [
    "print('auc: ', np.mean(auc_list), np.std(auc_list))\n",
    "print('ap:  ', np.mean(ap_list), np.std(ap_list))"
   ]
  }
 ],
 "metadata": {
  "kernelspec": {
   "display_name": "low-data",
   "language": "python",
   "name": "python3"
  },
  "language_info": {
   "codemirror_mode": {
    "name": "ipython",
    "version": 3
   },
   "file_extension": ".py",
   "mimetype": "text/x-python",
   "name": "python",
   "nbconvert_exporter": "python",
   "pygments_lexer": "ipython3",
   "version": "3.8.0"
  },
  "orig_nbformat": 4
 },
 "nbformat": 4,
 "nbformat_minor": 2
}
