{
 "cells": [
  {
   "cell_type": "code",
   "execution_count": 1,
   "metadata": {},
   "outputs": [],
   "source": [
    "import numpy as np\n",
    "import pandas as pd\n",
    "import os"
   ]
  },
  {
   "cell_type": "code",
   "execution_count": 2,
   "metadata": {},
   "outputs": [],
   "source": [
    "log_dir = '../tgn/archive/day/log_hour'\n",
    "log_path = log_dir + '/neg_sample/{}_{}_{}_self_sup.log'\n",
    "method_list = ['JODIE', 'DyRep', 'TGN']\n",
    "sample_list = ['rnd', 'hist_nre', 'induc_nre']\n",
    "data_list = ['wikipedia', 'reddit', 'mooc', 'lastfm', 'enron', 'SocialEvo', 'uci']"
   ]
  },
  {
   "cell_type": "code",
   "execution_count": 3,
   "metadata": {},
   "outputs": [],
   "source": [
    "def load_log(log_file):\n",
    "    with open(log_file, 'r') as f_log:\n",
    "        log_list = f_log.readlines()\n",
    "    log_list = [log.strip() for log in log_list]\n",
    "    return log_list"
   ]
  },
  {
   "cell_type": "code",
   "execution_count": 4,
   "metadata": {},
   "outputs": [],
   "source": [
    "def parse_result(log_list):\n",
    "    auc_list = []\n",
    "    ap_list = []\n",
    "\n",
    "    for log in log_list:\n",
    "        if 'Old nodes -- auc_inherent' in log:\n",
    "            auc_list.append(eval(log.split(':')[-1]))\n",
    "        if 'Old nodes -- ap_inherent' in log:\n",
    "            ap_list.append(eval(log.split(':')[-1]))   \n",
    "\n",
    "    return auc_list, ap_list"
   ]
  },
  {
   "cell_type": "code",
   "execution_count": 5,
   "metadata": {},
   "outputs": [],
   "source": [
    "for sample in sample_list:\n",
    "    auc_result_list = []\n",
    "    auc_std_result_list = []\n",
    "    ap_result_list = []\n",
    "    ap_std_result_list = []\n",
    "    \n",
    "    for method in method_list:\n",
    "        auc_result_list.append([])\n",
    "        auc_std_result_list.append([])\n",
    "        ap_result_list.append([])\n",
    "        ap_std_result_list.append([])\n",
    "        valid_data_list = []\n",
    "        \n",
    "        for data in data_list:\n",
    "            log_file = log_path.format(method, sample, data)\n",
    "            if not os.path.exists(log_file):\n",
    "                continue\n",
    "            \n",
    "            log_list = load_log(log_file)\n",
    "            if len(log_list) <= 7:\n",
    "                continue\n",
    "            \n",
    "            valid_data_list.append(data)\n",
    "            auc_list, ap_list = parse_result(log_list)\n",
    "            auc_mean, auc_std = np.mean(auc_list), np.std(auc_list)\n",
    "            ap_mean, ap_std = np.mean(ap_list), np.std(ap_list)\n",
    "            auc_result_list[-1].append(auc_mean)\n",
    "            auc_std_result_list[-1].append(auc_std)\n",
    "            ap_result_list[-1].append(ap_mean)\n",
    "            ap_std_result_list[-1].append(ap_std)\n",
    "\n",
    "    auc_df = pd.DataFrame(np.asarray(auc_result_list).T)\n",
    "    auc_df.columns = method_list\n",
    "    auc_df.index = valid_data_list\n",
    "    auc_df.to_excel('{}/auc_{}.xlsx'.format(log_dir, sample))\n",
    "\n",
    "    auc_std_df = pd.DataFrame(np.asarray(auc_std_result_list).T)\n",
    "    auc_std_df.columns = method_list\n",
    "    auc_std_df.index = valid_data_list\n",
    "    auc_std_df.to_excel('{}/auc_std_{}.xlsx'.format(log_dir, sample))\n",
    "\n",
    "    ap_df = pd.DataFrame(np.asarray(ap_result_list).T)\n",
    "    ap_df.columns = method_list\n",
    "    ap_df.index = valid_data_list\n",
    "    ap_df.to_excel('{}/ap_{}.xlsx'.format(log_dir, sample))\n",
    "\n",
    "    ap_std_df = pd.DataFrame(np.asarray(ap_std_result_list).T)\n",
    "    ap_std_df.columns = method_list\n",
    "    ap_std_df.index = valid_data_list\n",
    "    ap_std_df.to_excel('{}/ap_std_{}.xlsx'.format(log_dir, sample))\n",
    "    "
   ]
  },
  {
   "cell_type": "code",
   "execution_count": 6,
   "metadata": {},
   "outputs": [
    {
     "data": {
      "text/html": [
       "<div>\n",
       "<style scoped>\n",
       "    .dataframe tbody tr th:only-of-type {\n",
       "        vertical-align: middle;\n",
       "    }\n",
       "\n",
       "    .dataframe tbody tr th {\n",
       "        vertical-align: top;\n",
       "    }\n",
       "\n",
       "    .dataframe thead th {\n",
       "        text-align: right;\n",
       "    }\n",
       "</style>\n",
       "<table border=\"1\" class=\"dataframe\">\n",
       "  <thead>\n",
       "    <tr style=\"text-align: right;\">\n",
       "      <th></th>\n",
       "      <th>JODIE</th>\n",
       "      <th>DyRep</th>\n",
       "      <th>TGN</th>\n",
       "    </tr>\n",
       "  </thead>\n",
       "  <tbody>\n",
       "    <tr>\n",
       "      <th>wikipedia</th>\n",
       "      <td>0.437579</td>\n",
       "      <td>0.569212</td>\n",
       "      <td>0.700224</td>\n",
       "    </tr>\n",
       "    <tr>\n",
       "      <th>reddit</th>\n",
       "      <td>0.546280</td>\n",
       "      <td>0.469276</td>\n",
       "      <td>0.730804</td>\n",
       "    </tr>\n",
       "    <tr>\n",
       "      <th>mooc</th>\n",
       "      <td>0.263663</td>\n",
       "      <td>0.550611</td>\n",
       "      <td>0.454497</td>\n",
       "    </tr>\n",
       "    <tr>\n",
       "      <th>lastfm</th>\n",
       "      <td>0.333093</td>\n",
       "      <td>0.506959</td>\n",
       "      <td>0.512676</td>\n",
       "    </tr>\n",
       "    <tr>\n",
       "      <th>enron</th>\n",
       "      <td>0.494909</td>\n",
       "      <td>0.594608</td>\n",
       "      <td>0.670780</td>\n",
       "    </tr>\n",
       "    <tr>\n",
       "      <th>uci</th>\n",
       "      <td>0.451460</td>\n",
       "      <td>0.494683</td>\n",
       "      <td>0.641987</td>\n",
       "    </tr>\n",
       "  </tbody>\n",
       "</table>\n",
       "</div>"
      ],
      "text/plain": [
       "              JODIE     DyRep       TGN\n",
       "wikipedia  0.437579  0.569212  0.700224\n",
       "reddit     0.546280  0.469276  0.730804\n",
       "mooc       0.263663  0.550611  0.454497\n",
       "lastfm     0.333093  0.506959  0.512676\n",
       "enron      0.494909  0.594608  0.670780\n",
       "uci        0.451460  0.494683  0.641987"
      ]
     },
     "execution_count": 6,
     "metadata": {},
     "output_type": "execute_result"
    }
   ],
   "source": [
    "auc_df.to_excel('{}/auc_{}.xlsx'.format(log_dir, sample))\n",
    "auc_df"
   ]
  }
 ],
 "metadata": {
  "kernelspec": {
   "display_name": "low-data",
   "language": "python",
   "name": "python3"
  },
  "language_info": {
   "codemirror_mode": {
    "name": "ipython",
    "version": 3
   },
   "file_extension": ".py",
   "mimetype": "text/x-python",
   "name": "python",
   "nbconvert_exporter": "python",
   "pygments_lexer": "ipython3",
   "version": "3.8.0"
  },
  "orig_nbformat": 4
 },
 "nbformat": 4,
 "nbformat_minor": 2
}
