{
 "cells": [
  {
   "cell_type": "code",
   "execution_count": 1,
   "metadata": {},
   "outputs": [],
   "source": [
    "import pandas as pd\n",
    "import numpy as np"
   ]
  },
  {
   "attachments": {},
   "cell_type": "markdown",
   "metadata": {},
   "source": [
    "## Can. Parl. Dataset"
   ]
  },
  {
   "cell_type": "code",
   "execution_count": 2,
   "metadata": {},
   "outputs": [
    {
     "data": {
      "text/plain": [
       "0.0            3734\n",
       "31536000.0     5501\n",
       "63072000.0     3682\n",
       "94694400.0     5130\n",
       "126230400.0    4409\n",
       "157766400.0    3109\n",
       "189302400.0    8334\n",
       "220924800.0    6631\n",
       "252460800.0    7729\n",
       "283996800.0    4297\n",
       "315532800.0    4844\n",
       "347155200.0    6965\n",
       "378691200.0    7015\n",
       "410227200.0    3098\n",
       "Name: ts, dtype: int64"
      ]
     },
     "execution_count": 2,
     "metadata": {},
     "output_type": "execute_result"
    }
   ],
   "source": [
    "data_file = '../DG_data/CanParl/ml_CanParl.csv'\n",
    "data_df = pd.read_csv(data_file)\n",
    "data_df = data_df.drop(axis=1, columns=['Unnamed: 0'])\n",
    "data_df['ts'].value_counts().sort_index()"
   ]
  },
  {
   "cell_type": "code",
   "execution_count": 3,
   "metadata": {},
   "outputs": [],
   "source": [
    "time_granularity = 2 # original unique steps / coarse unique steps"
   ]
  },
  {
   "cell_type": "code",
   "execution_count": 4,
   "metadata": {},
   "outputs": [
    {
     "data": {
      "text/plain": [
       "7"
      ]
     },
     "execution_count": 4,
     "metadata": {},
     "output_type": "execute_result"
    }
   ],
   "source": [
    "num_unique_step = len(data_df['ts'].value_counts())\n",
    "num_unique_step = num_unique_step // time_granularity\n",
    "num_unique_step"
   ]
  },
  {
   "attachments": {},
   "cell_type": "markdown",
   "metadata": {},
   "source": [
    "### Quantile Split"
   ]
  },
  {
   "cell_type": "code",
   "execution_count": 5,
   "metadata": {},
   "outputs": [
    {
     "data": {
      "text/plain": [
       "[0.0,\n",
       " 63072000.0,\n",
       " 126230400.0,\n",
       " 189302400.0,\n",
       " 252460800.0,\n",
       " 315532800.0,\n",
       " 347155200.0,\n",
       " 410227200.0]"
      ]
     },
     "execution_count": 5,
     "metadata": {},
     "output_type": "execute_result"
    }
   ],
   "source": [
    "# if aggregate with quantile, the test set (15%) might be null\n",
    "quantile_prop = 1 / num_unique_step\n",
    "quantile_prop_list = [quantile_prop * i for i in range(num_unique_step + 1)]\n",
    "quantile_list = [data_df['ts'].quantile(q) for q in quantile_prop_list]\n",
    "quantile_list"
   ]
  },
  {
   "cell_type": "code",
   "execution_count": 6,
   "metadata": {},
   "outputs": [
    {
     "data": {
      "text/plain": [
       "0.0             9235\n",
       "63072000.0      8812\n",
       "126230400.0     7518\n",
       "189302400.0    14965\n",
       "252460800.0    12026\n",
       "315532800.0     4844\n",
       "347155200.0    13980\n",
       "410227200.0     3098\n",
       "Name: ts, dtype: int64"
      ]
     },
     "execution_count": 6,
     "metadata": {},
     "output_type": "execute_result"
    }
   ],
   "source": [
    "for i in range(len(quantile_list) - 1):\n",
    "    # if i == len(quantile_list) - 2:\n",
    "    #     data_df.loc[(data_df['ts'] >= quantile_list[i])&(data_df['ts'] <= quantile_list[i + 1]), 'ts'] = quantile_list[i]\n",
    "    # else:\n",
    "    data_df.loc[(data_df['ts'] >= quantile_list[i])&(data_df['ts'] < quantile_list[i + 1]), 'ts'] = quantile_list[i]\n",
    "data_df['ts'].value_counts().sort_index()"
   ]
  },
  {
   "cell_type": "code",
   "execution_count": 7,
   "metadata": {},
   "outputs": [],
   "source": [
    "data_df.to_csv('../DG_data_coarse/ml_CanParl.csv')"
   ]
  }
 ],
 "metadata": {
  "kernelspec": {
   "display_name": "low-data",
   "language": "python",
   "name": "python3"
  },
  "language_info": {
   "codemirror_mode": {
    "name": "ipython",
    "version": 3
   },
   "file_extension": ".py",
   "mimetype": "text/x-python",
   "name": "python",
   "nbconvert_exporter": "python",
   "pygments_lexer": "ipython3",
   "version": "3.8.0"
  },
  "orig_nbformat": 4
 },
 "nbformat": 4,
 "nbformat_minor": 2
}
